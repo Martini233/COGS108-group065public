{
 "cells": [
  {
   "cell_type": "markdown",
   "metadata": {
    "id": "cetHL12wjLYY",
    "pycharm": {
     "name": "#%% md\n"
    }
   },
   "source": [
    "# COGS 108 - Data Checkpoint"
   ]
  },
  {
   "cell_type": "markdown",
   "metadata": {
    "id": "Zy_c60E8jLYa",
    "pycharm": {
     "name": "#%% md\n"
    }
   },
   "source": [
    "# Names\n",
    "\n",
    "- Zihan Chen\n",
    "- Ning Ma\n",
    "- Kancheng Yin\n",
    "- Nan Jiang"
   ]
  },
  {
   "cell_type": "markdown",
   "metadata": {
    "id": "RDPxxHbkjLYa",
    "pycharm": {
     "name": "#%% md\n"
    }
   },
   "source": [
    "<a id='research_question'></a>\n",
    "# Research Question"
   ]
  },
  {
   "cell_type": "markdown",
   "metadata": {
    "id": "kC6R_gN5jLYa",
    "pycharm": {
     "name": "#%% md\n"
    }
   },
   "source": [
    "**General question**: What makes an airplane crash more fatal? \n",
    "\n",
    "\n",
    "**Specific question**: \n",
    "1. Does the fatality rate associate with a specific time of the day and specific location of the world? \n",
    "2. Does the fatality rate associate with who's operataing the plane *(private vs. military personale)*?\n",
    "3. Is there any keywords are more likely to associate with high fatality accident *(e.g., \"birds\", \"air traffic\", \"operator errors\")*?\n",
    "\n"
   ]
  },
  {
   "cell_type": "markdown",
   "metadata": {
    "id": "7dJOb16kjLYb",
    "pycharm": {
     "name": "#%% md\n"
    }
   },
   "source": [
    "# Dataset(s)"
   ]
  },
  {
   "cell_type": "markdown",
   "metadata": {
    "id": "_erM16FbjLYb",
    "pycharm": {
     "name": "#%% md\n"
    }
   },
   "source": [
    "- **Dataset Name:** Airplane Crashes and Fatalities From 1908 to 2009\n",
    "- **Link to the dataset:** https://data.world/data-society/airplane-crashes\n",
    "- **Number of observations:** 5268 x 13\n",
    "- **Description of the dataset:** This dataset contains the list of airplane crashes and fatalities happened from 1908 to 2009, and it also includes all information regrarding certain flight(['Date', 'Time', 'Location', 'Operator', 'Flight #', 'Route', 'Type',\n",
    "       'Registration', 'cn/In', 'Aboard', 'Fatalities', 'Ground', 'Summary'])\n",
    "\n",
    "<br>\n",
    "\n",
    "- **Dataset Name:** Supplementary Aviation Accidents in Countries Since 1919\n",
    "- **Link to the dataset:** https://www.kaggle.com/datasets/ramjasmaurya/aviation-accidents-history1919-april-2022\n",
    "- **Number of observations:** 21699 x 8 \n",
    "- **Description of the dataset:** This dataset contains the list of airplane crashes and fatalities happened since 1919, and it also includes all information regrarding certain flight(['Country', 'date', 'Air-craft type', 'registration name/mark',\n",
    "       'operator', 'fatilites', 'location', 'category'])\n",
    "\n",
    "\n",
    "We will mainly use first dataset since we have more information about certain airplane crash which we can analyze with. The problem with the first dataset is that it is not up-to-date, so we will use second dataset to supplement data from 2009 to 2022."
   ]
  },
  {
   "cell_type": "markdown",
   "metadata": {
    "id": "8uNd8SCIjLYb",
    "pycharm": {
     "name": "#%% md\n"
    }
   },
   "source": [
    "# Setup"
   ]
  },
  {
   "cell_type": "markdown",
   "metadata": {
    "id": "XBpVJ7PXjLYc"
   },
   "source": [
    "### Import Needed Libraries"
   ]
  },
  {
   "cell_type": "code",
   "execution_count": 1,
   "metadata": {
    "id": "wTDCIg-CjLYc",
    "pycharm": {
     "name": "#%%\n"
    }
   },
   "outputs": [],
   "source": [
    "# Import numpy to handle numerical information and analyse data\n",
    "import numpy as np\n",
    "\n",
    "# Import pandas to read csv file and to work with dataframes\n",
    "import pandas as pd\n",
    "\n",
    "# Import matplotlib and seaborn to visulize data\n",
    "import matplotlib.pyplot as plt\n",
    "import seaborn as sns\n",
    "sns.set()\n",
    "sns.set_context('talk')\n",
    "\n",
    "# Import math to perform mathematical operations\n",
    "import math\n",
    "\n",
    "# Import patsy and statsmodels to perform regression\n",
    "import patsy\n",
    "import statsmodels.api as sm\n",
    "\n",
    "# Import scipy to perform statistical operations\n",
    "import scipy.stats as stats\n",
    "\n",
    "# Set warnings to ignore\n",
    "import warnings\n",
    "warnings.filterwarnings('ignore')"
   ]
  },
  {
   "cell_type": "markdown",
   "metadata": {
    "id": "wEwJgPAbjLYd"
   },
   "source": [
    "### Import Data"
   ]
  },
  {
   "cell_type": "code",
   "execution_count": 2,
   "metadata": {
    "id": "YgDfsvFUjLYd"
   },
   "outputs": [],
   "source": [
    "# Load the airplane crashes and fatalities data from 1908 to 2009\n",
    "# We get this dataset from data.world(https://data.world/data-society/airplane-crashes)\n",
    "df_main = pd.read_csv('data/Airplane_Crashes_and_Fatalities_From_1908_to_2009.csv')\n",
    "\n",
    "# Load the supplimentary aviation accidents data from 1919 to 2022 which \n",
    "# we will only use data from 2009 to 2022\n",
    "# We get this dataset from Kaggle(https://www.kaggle.com/datasets/ramjasmaurya/aviation-accidents-history1919-april-2022)\n",
    "df_supplementary = pd.read_csv('data/supplementary_aviation_accidents.csv')"
   ]
  },
  {
   "cell_type": "markdown",
   "metadata": {
    "id": "Hobr7qs-jLYd",
    "pycharm": {
     "name": "#%% md\n"
    }
   },
   "source": [
    "# Data Cleaning"
   ]
  },
  {
   "cell_type": "markdown",
   "metadata": {
    "id": "mOZUmFsgjLYe",
    "pycharm": {
     "name": "#%% md\n"
    }
   },
   "source": [
    "We have two data, and we decide to clean them seperately and then merge."
   ]
  },
  {
   "cell_type": "markdown",
   "metadata": {
    "id": "5zulQd4XjLYe"
   },
   "source": [
    "### First, we clean the airplane crash data"
   ]
  },
  {
   "cell_type": "markdown",
   "metadata": {
    "id": "v314OH9gjLYe"
   },
   "source": [
    "As mentioned before, \n",
    "\n",
    "**df_main** has columns ['Date', 'Time', 'Location', 'Operator', 'Flight #', 'Route', 'Type',\n",
    "       'Registration', 'cn/In', 'Aboard', 'Fatalities', 'Ground', 'Summary'] \n",
    "       \n",
    "**df_supplementary** has columns ['Country', 'date', 'Air-craft type', 'registration name/mark',\n",
    "       'operator', 'fatilites', 'location', 'category']\n",
    "\n",
    "With our research problem, we only need ['Date', 'Location', 'Operator', 'Route', 'Type', 'Aboard', 'Fatalities', 'Summary'] columns. We will extract columns ['Country', 'date', 'Air-craft type', 'operator', 'fatilites', 'location'] from supplementary data and convert them so that two datasets have same format in same type of data. "
   ]
  },
  {
   "cell_type": "code",
   "execution_count": 3,
   "metadata": {
    "id": "8cGxxMO6jLYe",
    "pycharm": {
     "name": "#%%\n"
    }
   },
   "outputs": [],
   "source": [
    "# This function is used to unify the date format to be year/month/day\n",
    "def unify(data):\n",
    "    data = str(data).split('/')\n",
    "    if len(data) < 3:\n",
    "        return ''\n",
    "    return data[2] + '/' + data[0] + '/' + data[1]\n",
    "\n",
    "# Remain the data that required by our research problem\n",
    "columns_final = ['Date', 'Time', 'Location', 'Operator', 'Route', 'Type', 'Aboard', 'Fatalities', 'Summary']\n",
    "df_main = df_main[columns_final]\n",
    "\n",
    "# unify the date format\n",
    "df_main['Date'] = df_main['Date'].apply(unify)\n"
   ]
  },
  {
   "cell_type": "markdown",
   "metadata": {
    "id": "PjPKR6CLjLYf"
   },
   "source": [
    "Now we can take a look at the dataset"
   ]
  },
  {
   "cell_type": "code",
   "execution_count": 4,
   "metadata": {
    "id": "JubsFPjqjLYf",
    "outputId": "a46b55df-624a-45c1-902c-7b464e13d715"
   },
   "outputs": [
    {
     "data": {
      "text/html": [
       "<div>\n",
       "<style scoped>\n",
       "    .dataframe tbody tr th:only-of-type {\n",
       "        vertical-align: middle;\n",
       "    }\n",
       "\n",
       "    .dataframe tbody tr th {\n",
       "        vertical-align: top;\n",
       "    }\n",
       "\n",
       "    .dataframe thead th {\n",
       "        text-align: right;\n",
       "    }\n",
       "</style>\n",
       "<table border=\"1\" class=\"dataframe\">\n",
       "  <thead>\n",
       "    <tr style=\"text-align: right;\">\n",
       "      <th></th>\n",
       "      <th>Date</th>\n",
       "      <th>Time</th>\n",
       "      <th>Location</th>\n",
       "      <th>Operator</th>\n",
       "      <th>Route</th>\n",
       "      <th>Type</th>\n",
       "      <th>Aboard</th>\n",
       "      <th>Fatalities</th>\n",
       "      <th>Summary</th>\n",
       "    </tr>\n",
       "  </thead>\n",
       "  <tbody>\n",
       "    <tr>\n",
       "      <th>0</th>\n",
       "      <td>1908/09/17</td>\n",
       "      <td>17:18</td>\n",
       "      <td>Fort Myer, Virginia</td>\n",
       "      <td>Military - U.S. Army</td>\n",
       "      <td>Demonstration</td>\n",
       "      <td>Wright Flyer III</td>\n",
       "      <td>2.0</td>\n",
       "      <td>1.0</td>\n",
       "      <td>During a demonstration flight, a U.S. Army fly...</td>\n",
       "    </tr>\n",
       "    <tr>\n",
       "      <th>1</th>\n",
       "      <td>1912/07/12</td>\n",
       "      <td>06:30</td>\n",
       "      <td>AtlantiCity, New Jersey</td>\n",
       "      <td>Military - U.S. Navy</td>\n",
       "      <td>Test flight</td>\n",
       "      <td>Dirigible</td>\n",
       "      <td>5.0</td>\n",
       "      <td>5.0</td>\n",
       "      <td>First U.S. dirigible Akron exploded just offsh...</td>\n",
       "    </tr>\n",
       "    <tr>\n",
       "      <th>2</th>\n",
       "      <td>1913/08/06</td>\n",
       "      <td>NaN</td>\n",
       "      <td>Victoria, British Columbia, Canada</td>\n",
       "      <td>Private</td>\n",
       "      <td>NaN</td>\n",
       "      <td>Curtiss seaplane</td>\n",
       "      <td>1.0</td>\n",
       "      <td>1.0</td>\n",
       "      <td>The first fatal airplane accident in Canada oc...</td>\n",
       "    </tr>\n",
       "    <tr>\n",
       "      <th>3</th>\n",
       "      <td>1913/09/09</td>\n",
       "      <td>18:30</td>\n",
       "      <td>Over the North Sea</td>\n",
       "      <td>Military - German Navy</td>\n",
       "      <td>NaN</td>\n",
       "      <td>Zeppelin L-1 (airship)</td>\n",
       "      <td>20.0</td>\n",
       "      <td>14.0</td>\n",
       "      <td>The airship flew into a thunderstorm and encou...</td>\n",
       "    </tr>\n",
       "    <tr>\n",
       "      <th>4</th>\n",
       "      <td>1913/10/17</td>\n",
       "      <td>10:30</td>\n",
       "      <td>Near Johannisthal, Germany</td>\n",
       "      <td>Military - German Navy</td>\n",
       "      <td>NaN</td>\n",
       "      <td>Zeppelin L-2 (airship)</td>\n",
       "      <td>30.0</td>\n",
       "      <td>30.0</td>\n",
       "      <td>Hydrogen gas which was being vented was sucked...</td>\n",
       "    </tr>\n",
       "  </tbody>\n",
       "</table>\n",
       "</div>"
      ],
      "text/plain": [
       "         Date   Time                            Location  \\\n",
       "0  1908/09/17  17:18                 Fort Myer, Virginia   \n",
       "1  1912/07/12  06:30             AtlantiCity, New Jersey   \n",
       "2  1913/08/06    NaN  Victoria, British Columbia, Canada   \n",
       "3  1913/09/09  18:30                  Over the North Sea   \n",
       "4  1913/10/17  10:30          Near Johannisthal, Germany   \n",
       "\n",
       "                 Operator          Route                    Type  Aboard  \\\n",
       "0    Military - U.S. Army  Demonstration        Wright Flyer III     2.0   \n",
       "1    Military - U.S. Navy    Test flight               Dirigible     5.0   \n",
       "2                 Private            NaN        Curtiss seaplane     1.0   \n",
       "3  Military - German Navy            NaN  Zeppelin L-1 (airship)    20.0   \n",
       "4  Military - German Navy            NaN  Zeppelin L-2 (airship)    30.0   \n",
       "\n",
       "   Fatalities                                            Summary  \n",
       "0         1.0  During a demonstration flight, a U.S. Army fly...  \n",
       "1         5.0  First U.S. dirigible Akron exploded just offsh...  \n",
       "2         1.0  The first fatal airplane accident in Canada oc...  \n",
       "3        14.0  The airship flew into a thunderstorm and encou...  \n",
       "4        30.0  Hydrogen gas which was being vented was sucked...  "
      ]
     },
     "execution_count": 4,
     "metadata": {},
     "output_type": "execute_result"
    }
   ],
   "source": [
    "df_main.head()"
   ]
  },
  {
   "cell_type": "markdown",
   "metadata": {
    "id": "rLjYStXtjLYf"
   },
   "source": [
    "Then we will transform supplementary data to the format that main dataset requires"
   ]
  },
  {
   "cell_type": "code",
   "execution_count": 5,
   "metadata": {
    "id": "6i3H2cbmjLYg"
   },
   "outputs": [],
   "source": [
    "import calendar\n",
    "# Notice that month in this dataset is in string format, we need to convert it to number\n",
    "month_to_number = {month: str(index) for index, month in enumerate(calendar.month_abbr) if month}\n",
    "for month in month_to_number:\n",
    "    if len(month_to_number[month]) == 1:\n",
    "        month_to_number[month] = \"0\" + month_to_number[month]\n",
    "\n",
    "# This function is used to unify the date format to be year/month/day for this dataset\n",
    "def filter_date(data):\n",
    "    if isinstance(data, float):\n",
    "        return ''\n",
    "    \n",
    "    data = str(data).split('-')\n",
    "    if len(data) < 3:\n",
    "        return ''\n",
    "    if data[1] in month_to_number:\n",
    "        data[1] = month_to_number[data[1]]\n",
    "    \n",
    "    if data[1] == '???': \n",
    "        return '/'.join([data[2], '01/01'])\n",
    "    elif data[0] == '??': \n",
    "        return '/'.join([data[2], data[1], '01'])\n",
    "    elif len(data) == 3:\n",
    "        return '/'.join([data[2], data[1], data[0]])\n",
    "    else:\n",
    "        return ''\n",
    "\n",
    "# Notice that there are weird input for fatalities(e.g. 8+1)\n",
    "# So this function is used to filter the fatalities data\n",
    "def filter_fatalities(data):\n",
    "    data = str(data)\n",
    "    if \"+\" in data:\n",
    "        return sum([int(x) for x in data.split('+')])\n",
    "    else:\n",
    "        return int(data) if data.isdigit() else 0\n",
    "\n",
    "# This function is clean the data to the format that we need in order to append to main dataframe\n",
    "def transform(df_supplementary):\n",
    "    df_filtered = df_supplementary[['date', 'Country', 'location', 'operator', 'Air-craft type', 'fatilites']]\n",
    "\n",
    "    # unify the name for the columns\n",
    "    df_filtered = df_filtered.rename(columns={'date': 'Date', 'location': 'Location', 'operator': 'Operator', \n",
    "                                                'Air-craft type': 'Type', 'fatilites': 'Fatalities'})\n",
    "\n",
    "    # append the country name to the location\n",
    "    df_filtered['Location'] = df_filtered['Location'] + \", \" + df_filtered['Country']\n",
    "\n",
    "    # Replace \"near\" in the location because we will draw heatmap with this data\n",
    "    df_filtered['Location'] = df_filtered['Location'].apply(lambda x: str(x).replace('near', ''))\n",
    "\n",
    "    # filter the date with designed functions\n",
    "    df_filtered['Date'] = df_filtered['Date'].apply(filter_date)\n",
    "    df_filtered['Fatalities'] = df_filtered['Fatalities'].apply(filter_fatalities)\n",
    "    \n",
    "    return df_filtered.drop(columns=['Country'])\n",
    "\n",
    "df_supplementary = transform(df_supplementary)\n"
   ]
  },
  {
   "cell_type": "markdown",
   "metadata": {
    "id": "a0Shm0wqjLYg"
   },
   "source": [
    "Now we can take a look at the processed supplementary dataset"
   ]
  },
  {
   "cell_type": "code",
   "execution_count": 6,
   "metadata": {
    "id": "qIBZj9bcjLYg",
    "outputId": "54c358f4-9e21-4cb2-f651-a047e40312aa"
   },
   "outputs": [
    {
     "data": {
      "text/html": [
       "<div>\n",
       "<style scoped>\n",
       "    .dataframe tbody tr th:only-of-type {\n",
       "        vertical-align: middle;\n",
       "    }\n",
       "\n",
       "    .dataframe tbody tr th {\n",
       "        vertical-align: top;\n",
       "    }\n",
       "\n",
       "    .dataframe thead th {\n",
       "        text-align: right;\n",
       "    }\n",
       "</style>\n",
       "<table border=\"1\" class=\"dataframe\">\n",
       "  <thead>\n",
       "    <tr style=\"text-align: right;\">\n",
       "      <th></th>\n",
       "      <th>Date</th>\n",
       "      <th>Location</th>\n",
       "      <th>Operator</th>\n",
       "      <th>Type</th>\n",
       "      <th>Fatalities</th>\n",
       "    </tr>\n",
       "  </thead>\n",
       "  <tbody>\n",
       "    <tr>\n",
       "      <th>0</th>\n",
       "      <td>2016/12/07</td>\n",
       "      <td>Hobart Airpo..., Australia</td>\n",
       "      <td>Virgin Australia Airlines</td>\n",
       "      <td>Boeing 737-8FE (WL)</td>\n",
       "      <td>0</td>\n",
       "    </tr>\n",
       "    <tr>\n",
       "      <th>1</th>\n",
       "      <td>1987/02/19</td>\n",
       "      <td>Stadnitsa, Ukraine</td>\n",
       "      <td>Soviet AF</td>\n",
       "      <td>Antonov An-26</td>\n",
       "      <td>9</td>\n",
       "    </tr>\n",
       "    <tr>\n",
       "      <th>2</th>\n",
       "      <td>2003/02/19</td>\n",
       "      <td>Kerman, Iran</td>\n",
       "      <td>Iranian Revolutionary Guard</td>\n",
       "      <td>Ilyushin Il-76MD</td>\n",
       "      <td>275</td>\n",
       "    </tr>\n",
       "    <tr>\n",
       "      <th>3</th>\n",
       "      <td>1990/05/11</td>\n",
       "      <td>Rodenbach, Germany</td>\n",
       "      <td>German AF</td>\n",
       "      <td>Transall C-160D</td>\n",
       "      <td>10</td>\n",
       "    </tr>\n",
       "    <tr>\n",
       "      <th>4</th>\n",
       "      <td>1943/01/04</td>\n",
       "      <td>Ostrow, Russia</td>\n",
       "      <td>German AF</td>\n",
       "      <td>Junkers Ju-52/3m</td>\n",
       "      <td>0</td>\n",
       "    </tr>\n",
       "  </tbody>\n",
       "</table>\n",
       "</div>"
      ],
      "text/plain": [
       "         Date                    Location                     Operator  \\\n",
       "0  2016/12/07  Hobart Airpo..., Australia    Virgin Australia Airlines   \n",
       "1  1987/02/19          Stadnitsa, Ukraine                    Soviet AF   \n",
       "2  2003/02/19                Kerman, Iran  Iranian Revolutionary Guard   \n",
       "3  1990/05/11          Rodenbach, Germany                    German AF   \n",
       "4  1943/01/04              Ostrow, Russia                    German AF   \n",
       "\n",
       "                  Type  Fatalities  \n",
       "0  Boeing 737-8FE (WL)           0  \n",
       "1        Antonov An-26           9  \n",
       "2     Ilyushin Il-76MD         275  \n",
       "3      Transall C-160D          10  \n",
       "4     Junkers Ju-52/3m           0  "
      ]
     },
     "execution_count": 6,
     "metadata": {},
     "output_type": "execute_result"
    }
   ],
   "source": [
    "df_supplementary.head()"
   ]
  },
  {
   "cell_type": "markdown",
   "metadata": {
    "id": "TuUsV-WMjLYh"
   },
   "source": [
    "Since We just need data from 2009 to 2022, we will append only them to the main dataframe"
   ]
  },
  {
   "cell_type": "code",
   "execution_count": 7,
   "metadata": {
    "id": "VtpdAHK6jLYh"
   },
   "outputs": [],
   "source": [
    "# We will only use data from 2009 to 2022\n",
    "df_supplementary = df_supplementary[pd.to_datetime(df_supplementary['Date']) > \"01-Jan-2009\"]\n",
    "\n",
    "# Since there are three columns this dataframe does not have, so we need to add them\n",
    "df_supplementary[['Route', 'Summary']] = \" \"\n",
    "df_supplementary['Aboard'] = -1\n",
    "df_supplementary['Time'] = np.nan\n",
    "\n",
    "# Reorder the columns\n",
    "df_supplementary = df_supplementary[['Date', 'Time', 'Location', 'Operator', 'Route', 'Type', 'Aboard', 'Fatalities', 'Summary']]"
   ]
  },
  {
   "cell_type": "markdown",
   "metadata": {
    "id": "MUkipM8JjLYh"
   },
   "source": [
    "## Second, we merge the data"
   ]
  },
  {
   "cell_type": "markdown",
   "metadata": {
    "id": "KOjfmE5PjLYh"
   },
   "source": [
    "Now we do the last cleaning which is removing airplane crash that does not have date andreplacing invalid value to default value"
   ]
  },
  {
   "cell_type": "code",
   "execution_count": 8,
   "metadata": {
    "id": "M5ehmEZwjLYh"
   },
   "outputs": [],
   "source": [
    "df = df_main.append(df_supplementary).reset_index(drop=True)\n",
    "\n",
    "# free memory\n",
    "del df_main\n",
    "del df_supplementary\n",
    "\n",
    "# We replace the empty data to NaN and drop rows with NaN date\n",
    "for column in columns_final:\n",
    "    df[column] = df[column].replace('', np.nan)\n",
    "df.dropna(subset=['Date'])\n",
    "df[['Aboard', 'Fatalities']] = df[['Aboard', 'Fatalities']].fillna(0)\n",
    "# Change these two columns to int\n",
    "df['Aboard'] = df['Aboard'].astype(int)\n",
    "df['Fatalities'] = df['Fatalities'].astype(int)\n",
    "\n",
    "# We save this dataframe to csv file for future use\n",
    "df.to_csv('data/df.csv')"
   ]
  },
  {
   "cell_type": "markdown",
   "metadata": {
    "id": "5RVscHsGjLYh"
   },
   "source": [
    "## The Final DataFrame\n",
    "- **Date:** The year/month/day of airplane crash\n",
    "- **Location:** Location of the airplane crash\n",
    "- **Operator:** The institute/company/government/office that operate the flight\n",
    "- **Route:** The Route of the flight\n",
    "- **Type:** Airplane type of the flight\n",
    "- **Aboard:** Aboard number of the flight\n",
    "- **Fatalities:** Fatalities of the airplane crash\n",
    "- **Summary:** Brief summary for what causes this airplane crash"
   ]
  },
  {
   "cell_type": "code",
   "execution_count": 9,
   "metadata": {
    "id": "ItVpcZ3OjLYi",
    "outputId": "58a7344f-9dd5-444b-bbdc-dec1e9cc0b36"
   },
   "outputs": [
    {
     "data": {
      "text/html": [
       "<div>\n",
       "<style scoped>\n",
       "    .dataframe tbody tr th:only-of-type {\n",
       "        vertical-align: middle;\n",
       "    }\n",
       "\n",
       "    .dataframe tbody tr th {\n",
       "        vertical-align: top;\n",
       "    }\n",
       "\n",
       "    .dataframe thead th {\n",
       "        text-align: right;\n",
       "    }\n",
       "</style>\n",
       "<table border=\"1\" class=\"dataframe\">\n",
       "  <thead>\n",
       "    <tr style=\"text-align: right;\">\n",
       "      <th></th>\n",
       "      <th>Date</th>\n",
       "      <th>Time</th>\n",
       "      <th>Location</th>\n",
       "      <th>Operator</th>\n",
       "      <th>Route</th>\n",
       "      <th>Type</th>\n",
       "      <th>Aboard</th>\n",
       "      <th>Fatalities</th>\n",
       "      <th>Summary</th>\n",
       "    </tr>\n",
       "  </thead>\n",
       "  <tbody>\n",
       "    <tr>\n",
       "      <th>0</th>\n",
       "      <td>1908/09/17</td>\n",
       "      <td>17:18</td>\n",
       "      <td>Fort Myer, Virginia</td>\n",
       "      <td>Military - U.S. Army</td>\n",
       "      <td>Demonstration</td>\n",
       "      <td>Wright Flyer III</td>\n",
       "      <td>2</td>\n",
       "      <td>1</td>\n",
       "      <td>During a demonstration flight, a U.S. Army fly...</td>\n",
       "    </tr>\n",
       "    <tr>\n",
       "      <th>1</th>\n",
       "      <td>1912/07/12</td>\n",
       "      <td>06:30</td>\n",
       "      <td>AtlantiCity, New Jersey</td>\n",
       "      <td>Military - U.S. Navy</td>\n",
       "      <td>Test flight</td>\n",
       "      <td>Dirigible</td>\n",
       "      <td>5</td>\n",
       "      <td>5</td>\n",
       "      <td>First U.S. dirigible Akron exploded just offsh...</td>\n",
       "    </tr>\n",
       "    <tr>\n",
       "      <th>2</th>\n",
       "      <td>1913/08/06</td>\n",
       "      <td>NaN</td>\n",
       "      <td>Victoria, British Columbia, Canada</td>\n",
       "      <td>Private</td>\n",
       "      <td>NaN</td>\n",
       "      <td>Curtiss seaplane</td>\n",
       "      <td>1</td>\n",
       "      <td>1</td>\n",
       "      <td>The first fatal airplane accident in Canada oc...</td>\n",
       "    </tr>\n",
       "    <tr>\n",
       "      <th>3</th>\n",
       "      <td>1913/09/09</td>\n",
       "      <td>18:30</td>\n",
       "      <td>Over the North Sea</td>\n",
       "      <td>Military - German Navy</td>\n",
       "      <td>NaN</td>\n",
       "      <td>Zeppelin L-1 (airship)</td>\n",
       "      <td>20</td>\n",
       "      <td>14</td>\n",
       "      <td>The airship flew into a thunderstorm and encou...</td>\n",
       "    </tr>\n",
       "    <tr>\n",
       "      <th>4</th>\n",
       "      <td>1913/10/17</td>\n",
       "      <td>10:30</td>\n",
       "      <td>Near Johannisthal, Germany</td>\n",
       "      <td>Military - German Navy</td>\n",
       "      <td>NaN</td>\n",
       "      <td>Zeppelin L-2 (airship)</td>\n",
       "      <td>30</td>\n",
       "      <td>30</td>\n",
       "      <td>Hydrogen gas which was being vented was sucked...</td>\n",
       "    </tr>\n",
       "  </tbody>\n",
       "</table>\n",
       "</div>"
      ],
      "text/plain": [
       "         Date   Time                            Location  \\\n",
       "0  1908/09/17  17:18                 Fort Myer, Virginia   \n",
       "1  1912/07/12  06:30             AtlantiCity, New Jersey   \n",
       "2  1913/08/06    NaN  Victoria, British Columbia, Canada   \n",
       "3  1913/09/09  18:30                  Over the North Sea   \n",
       "4  1913/10/17  10:30          Near Johannisthal, Germany   \n",
       "\n",
       "                 Operator          Route                    Type  Aboard  \\\n",
       "0    Military - U.S. Army  Demonstration        Wright Flyer III       2   \n",
       "1    Military - U.S. Navy    Test flight               Dirigible       5   \n",
       "2                 Private            NaN        Curtiss seaplane       1   \n",
       "3  Military - German Navy            NaN  Zeppelin L-1 (airship)      20   \n",
       "4  Military - German Navy            NaN  Zeppelin L-2 (airship)      30   \n",
       "\n",
       "   Fatalities                                            Summary  \n",
       "0           1  During a demonstration flight, a U.S. Army fly...  \n",
       "1           5  First U.S. dirigible Akron exploded just offsh...  \n",
       "2           1  The first fatal airplane accident in Canada oc...  \n",
       "3          14  The airship flew into a thunderstorm and encou...  \n",
       "4          30  Hydrogen gas which was being vented was sucked...  "
      ]
     },
     "execution_count": 9,
     "metadata": {},
     "output_type": "execute_result"
    }
   ],
   "source": [
    "df.head()"
   ]
  },
  {
   "cell_type": "code",
   "execution_count": null,
   "metadata": {},
   "outputs": [],
   "source": []
  }
 ],
 "metadata": {
  "colab": {
   "name": "DataCheckpointGroup065Sp22.ipynb",
   "provenance": []
  },
  "kernelspec": {
   "display_name": "Python 3 (ipykernel)",
   "language": "python",
   "name": "python3"
  },
  "language_info": {
   "codemirror_mode": {
    "name": "ipython",
    "version": 3
   },
   "file_extension": ".py",
   "mimetype": "text/x-python",
   "name": "python",
   "nbconvert_exporter": "python",
   "pygments_lexer": "ipython3",
   "version": "3.9.7"
  }
 },
 "nbformat": 4,
 "nbformat_minor": 1
}
